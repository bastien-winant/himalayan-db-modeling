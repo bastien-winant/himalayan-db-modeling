{
 "cells": [
  {
   "cell_type": "code",
   "id": "initial_id",
   "metadata": {
    "collapsed": true,
    "ExecuteTime": {
     "end_time": "2025-07-30T22:31:09.638157Z",
     "start_time": "2025-07-30T22:31:09.628800Z"
    }
   },
   "source": [
    "import sys\n",
    "from pathlib import Path\n",
    "\n",
    "import pandas as pd"
   ],
   "outputs": [],
   "execution_count": 1
  },
  {
   "metadata": {
    "ExecuteTime": {
     "end_time": "2025-07-30T22:31:09.951147Z",
     "start_time": "2025-07-30T22:31:09.945100Z"
    }
   },
   "cell_type": "code",
   "source": [
    "# Add parent directory to Python path\n",
    "sys.path.append(str(Path().resolve().parent))"
   ],
   "id": "3e2e4af4cec84d9",
   "outputs": [],
   "execution_count": 2
  },
  {
   "metadata": {
    "ExecuteTime": {
     "end_time": "2025-07-30T22:31:10.916349Z",
     "start_time": "2025-07-30T22:31:09.964786Z"
    }
   },
   "cell_type": "code",
   "source": "from src.utils.preprocessing import *",
   "id": "72f5a757373bfd3b",
   "outputs": [],
   "execution_count": 3
  },
  {
   "metadata": {
    "ExecuteTime": {
     "end_time": "2025-07-30T22:31:10.981903Z",
     "start_time": "2025-07-30T22:31:10.929483Z"
    }
   },
   "cell_type": "code",
   "source": [
    "file_path = str(Path().resolve().parent / \"data/raw/peaks.DBF\")\n",
    "df = read_dbf(file_path)"
   ],
   "id": "9886f459b8faabed",
   "outputs": [],
   "execution_count": 4
  },
  {
   "metadata": {
    "ExecuteTime": {
     "end_time": "2025-07-30T22:31:11.047213Z",
     "start_time": "2025-07-30T22:31:11.023506Z"
    }
   },
   "cell_type": "code",
   "source": "df.dtypes",
   "id": "a801bf8acdd2cdf0",
   "outputs": [
    {
     "data": {
      "text/plain": [
       "peakid        object\n",
       "pkname        object\n",
       "pkname2       object\n",
       "location      object\n",
       "heightm        int64\n",
       "heightf        int64\n",
       "himal          int64\n",
       "region         int64\n",
       "open            bool\n",
       "unlisted        bool\n",
       "trekking        bool\n",
       "trekyear      object\n",
       "restrict      object\n",
       "phost          int64\n",
       "pstatus        int64\n",
       "peakmemo      object\n",
       "pyear         object\n",
       "pseason        int64\n",
       "pexpid        object\n",
       "psmtdate      object\n",
       "pcountry      object\n",
       "psummiters    object\n",
       "psmtnote      object\n",
       "refermemo     object\n",
       "photomemo     object\n",
       "dtype: object"
      ]
     },
     "execution_count": 5,
     "metadata": {},
     "output_type": "execute_result"
    }
   ],
   "execution_count": 5
  },
  {
   "metadata": {
    "ExecuteTime": {
     "end_time": "2025-07-30T22:31:11.170755Z",
     "start_time": "2025-07-30T22:31:11.141105Z"
    }
   },
   "cell_type": "code",
   "source": "df.head()",
   "id": "d30251f9f1540cb5",
   "outputs": [
    {
     "data": {
      "text/plain": [
       "  peakid         pkname        pkname2                        location  \\\n",
       "0   AMAD     Ama Dablam   Amai Dablang                    Khumbu Himal   \n",
       "1   AMPG  Amphu Gyabjen  Amphu Gyabien  Khumbu Himal (N of Ama Dablam)   \n",
       "2   ANN1    Annapurna I           None                 Annapurna Himal   \n",
       "3   ANN2   Annapurna II           None                 Annapurna Himal   \n",
       "4   ANN3  Annapurna III           None                 Annapurna Himal   \n",
       "\n",
       "   heightm  heightf  himal  region  open  unlisted  ...  \\\n",
       "0     6814    22356     12       2  True     False  ...   \n",
       "1     5630    18471     12       2  True     False  ...   \n",
       "2     8091    26545      1       5  True     False  ...   \n",
       "3     7937    26040      1       5  True     False  ...   \n",
       "4     7555    24787      1       5  True     False  ...   \n",
       "\n",
       "                                            peakmemo pyear pseason     pexpid  \\\n",
       "0  Other map altitudes:\\r\\n   6814m - HMG-MT, HMG...  1961       1  AMAD61101   \n",
       "1  Other map altitudes:\\r\\n   5630m - HMG-Finn, N...  1953       1  AMPG53101   \n",
       "2  Other map altitudes:\\r\\n   8091m - HMG-MT, HMG...  1950       1  ANN150101   \n",
       "3  Other map altitudes:\\r\\n   7937m - HMG-MT, HMG...  1960       1  ANN260101   \n",
       "4  Other map altitudes:\\r\\n   7555m - HMG-MT, HMG...  1961       1  ANN361101   \n",
       "\n",
       "   psmtdate              pcountry  \\\n",
       "0    Mar 13  New Zealand, USA, UK   \n",
       "1    Apr 11                    UK   \n",
       "2    Jun 03                France   \n",
       "3    May 17             UK, Nepal   \n",
       "4    May 06                 India   \n",
       "\n",
       "                                          psummiters  psmtnote  \\\n",
       "0  Mike Gill, Wally Romanes, Barry Bishop, Michae...      None   \n",
       "1                          John Hunt, Tom Bourdillon      None   \n",
       "2                     Maurice Herzog, Louis Lachenal      None   \n",
       "3   Richard Grant, Chris Bonington, Ang Nyima Sherpa      None   \n",
       "4          Mohan S. Kohli, Sonam Gyatso, Sonam Girmi      None   \n",
       "\n",
       "                                           refermemo  \\\n",
       "0                                               None   \n",
       "1                                               None   \n",
       "2  Dyhrenfurth history 1950-1977 (MM 58:44-47 Nov...   \n",
       "3  Dyhrenfurth history 1960-1976 (MM 51:36-37 Sep...   \n",
       "4                                               None   \n",
       "\n",
       "                                           photomemo  \n",
       "0  W Face (High 126:5 May 1993)\\r\\nSE Face (High ...  \n",
       "1                                               None  \n",
       "2  S Face (High 122:3 Jan 1993) (Beghin accident)...  \n",
       "3                         N Face (MM 51:36 Sep 1976)  \n",
       "4  S Side (MM 125:11 Jan 1989)\\r\\nSW Face (MM 71:...  \n",
       "\n",
       "[5 rows x 25 columns]"
      ],
      "text/html": [
       "<div>\n",
       "<style scoped>\n",
       "    .dataframe tbody tr th:only-of-type {\n",
       "        vertical-align: middle;\n",
       "    }\n",
       "\n",
       "    .dataframe tbody tr th {\n",
       "        vertical-align: top;\n",
       "    }\n",
       "\n",
       "    .dataframe thead th {\n",
       "        text-align: right;\n",
       "    }\n",
       "</style>\n",
       "<table border=\"1\" class=\"dataframe\">\n",
       "  <thead>\n",
       "    <tr style=\"text-align: right;\">\n",
       "      <th></th>\n",
       "      <th>peakid</th>\n",
       "      <th>pkname</th>\n",
       "      <th>pkname2</th>\n",
       "      <th>location</th>\n",
       "      <th>heightm</th>\n",
       "      <th>heightf</th>\n",
       "      <th>himal</th>\n",
       "      <th>region</th>\n",
       "      <th>open</th>\n",
       "      <th>unlisted</th>\n",
       "      <th>...</th>\n",
       "      <th>peakmemo</th>\n",
       "      <th>pyear</th>\n",
       "      <th>pseason</th>\n",
       "      <th>pexpid</th>\n",
       "      <th>psmtdate</th>\n",
       "      <th>pcountry</th>\n",
       "      <th>psummiters</th>\n",
       "      <th>psmtnote</th>\n",
       "      <th>refermemo</th>\n",
       "      <th>photomemo</th>\n",
       "    </tr>\n",
       "  </thead>\n",
       "  <tbody>\n",
       "    <tr>\n",
       "      <th>0</th>\n",
       "      <td>AMAD</td>\n",
       "      <td>Ama Dablam</td>\n",
       "      <td>Amai Dablang</td>\n",
       "      <td>Khumbu Himal</td>\n",
       "      <td>6814</td>\n",
       "      <td>22356</td>\n",
       "      <td>12</td>\n",
       "      <td>2</td>\n",
       "      <td>True</td>\n",
       "      <td>False</td>\n",
       "      <td>...</td>\n",
       "      <td>Other map altitudes:\\r\\n   6814m - HMG-MT, HMG...</td>\n",
       "      <td>1961</td>\n",
       "      <td>1</td>\n",
       "      <td>AMAD61101</td>\n",
       "      <td>Mar 13</td>\n",
       "      <td>New Zealand, USA, UK</td>\n",
       "      <td>Mike Gill, Wally Romanes, Barry Bishop, Michae...</td>\n",
       "      <td>None</td>\n",
       "      <td>None</td>\n",
       "      <td>W Face (High 126:5 May 1993)\\r\\nSE Face (High ...</td>\n",
       "    </tr>\n",
       "    <tr>\n",
       "      <th>1</th>\n",
       "      <td>AMPG</td>\n",
       "      <td>Amphu Gyabjen</td>\n",
       "      <td>Amphu Gyabien</td>\n",
       "      <td>Khumbu Himal (N of Ama Dablam)</td>\n",
       "      <td>5630</td>\n",
       "      <td>18471</td>\n",
       "      <td>12</td>\n",
       "      <td>2</td>\n",
       "      <td>True</td>\n",
       "      <td>False</td>\n",
       "      <td>...</td>\n",
       "      <td>Other map altitudes:\\r\\n   5630m - HMG-Finn, N...</td>\n",
       "      <td>1953</td>\n",
       "      <td>1</td>\n",
       "      <td>AMPG53101</td>\n",
       "      <td>Apr 11</td>\n",
       "      <td>UK</td>\n",
       "      <td>John Hunt, Tom Bourdillon</td>\n",
       "      <td>None</td>\n",
       "      <td>None</td>\n",
       "      <td>None</td>\n",
       "    </tr>\n",
       "    <tr>\n",
       "      <th>2</th>\n",
       "      <td>ANN1</td>\n",
       "      <td>Annapurna I</td>\n",
       "      <td>None</td>\n",
       "      <td>Annapurna Himal</td>\n",
       "      <td>8091</td>\n",
       "      <td>26545</td>\n",
       "      <td>1</td>\n",
       "      <td>5</td>\n",
       "      <td>True</td>\n",
       "      <td>False</td>\n",
       "      <td>...</td>\n",
       "      <td>Other map altitudes:\\r\\n   8091m - HMG-MT, HMG...</td>\n",
       "      <td>1950</td>\n",
       "      <td>1</td>\n",
       "      <td>ANN150101</td>\n",
       "      <td>Jun 03</td>\n",
       "      <td>France</td>\n",
       "      <td>Maurice Herzog, Louis Lachenal</td>\n",
       "      <td>None</td>\n",
       "      <td>Dyhrenfurth history 1950-1977 (MM 58:44-47 Nov...</td>\n",
       "      <td>S Face (High 122:3 Jan 1993) (Beghin accident)...</td>\n",
       "    </tr>\n",
       "    <tr>\n",
       "      <th>3</th>\n",
       "      <td>ANN2</td>\n",
       "      <td>Annapurna II</td>\n",
       "      <td>None</td>\n",
       "      <td>Annapurna Himal</td>\n",
       "      <td>7937</td>\n",
       "      <td>26040</td>\n",
       "      <td>1</td>\n",
       "      <td>5</td>\n",
       "      <td>True</td>\n",
       "      <td>False</td>\n",
       "      <td>...</td>\n",
       "      <td>Other map altitudes:\\r\\n   7937m - HMG-MT, HMG...</td>\n",
       "      <td>1960</td>\n",
       "      <td>1</td>\n",
       "      <td>ANN260101</td>\n",
       "      <td>May 17</td>\n",
       "      <td>UK, Nepal</td>\n",
       "      <td>Richard Grant, Chris Bonington, Ang Nyima Sherpa</td>\n",
       "      <td>None</td>\n",
       "      <td>Dyhrenfurth history 1960-1976 (MM 51:36-37 Sep...</td>\n",
       "      <td>N Face (MM 51:36 Sep 1976)</td>\n",
       "    </tr>\n",
       "    <tr>\n",
       "      <th>4</th>\n",
       "      <td>ANN3</td>\n",
       "      <td>Annapurna III</td>\n",
       "      <td>None</td>\n",
       "      <td>Annapurna Himal</td>\n",
       "      <td>7555</td>\n",
       "      <td>24787</td>\n",
       "      <td>1</td>\n",
       "      <td>5</td>\n",
       "      <td>True</td>\n",
       "      <td>False</td>\n",
       "      <td>...</td>\n",
       "      <td>Other map altitudes:\\r\\n   7555m - HMG-MT, HMG...</td>\n",
       "      <td>1961</td>\n",
       "      <td>1</td>\n",
       "      <td>ANN361101</td>\n",
       "      <td>May 06</td>\n",
       "      <td>India</td>\n",
       "      <td>Mohan S. Kohli, Sonam Gyatso, Sonam Girmi</td>\n",
       "      <td>None</td>\n",
       "      <td>None</td>\n",
       "      <td>S Side (MM 125:11 Jan 1989)\\r\\nSW Face (MM 71:...</td>\n",
       "    </tr>\n",
       "  </tbody>\n",
       "</table>\n",
       "<p>5 rows × 25 columns</p>\n",
       "</div>"
      ]
     },
     "execution_count": 6,
     "metadata": {},
     "output_type": "execute_result"
    }
   ],
   "execution_count": 6
  },
  {
   "metadata": {
    "ExecuteTime": {
     "end_time": "2025-07-30T22:31:11.358641Z",
     "start_time": "2025-07-30T22:31:11.339252Z"
    }
   },
   "cell_type": "code",
   "source": [
    "file_path = str(Path().resolve().parent / \"data/processed/peaks.csv\")\n",
    "write_csv(df, file_path)"
   ],
   "id": "3945e1972d1f123f",
   "outputs": [],
   "execution_count": 7
  },
  {
   "metadata": {
    "ExecuteTime": {
     "end_time": "2025-07-30T22:31:37.194793Z",
     "start_time": "2025-07-30T22:31:37.176718Z"
    }
   },
   "cell_type": "code",
   "source": "df = pd.read_csv(file_path)",
   "id": "6b3ad5985e66ce46",
   "outputs": [],
   "execution_count": 8
  }
 ],
 "metadata": {
  "kernelspec": {
   "display_name": "Python 3",
   "language": "python",
   "name": "python3"
  },
  "language_info": {
   "codemirror_mode": {
    "name": "ipython",
    "version": 2
   },
   "file_extension": ".py",
   "mimetype": "text/x-python",
   "name": "python",
   "nbconvert_exporter": "python",
   "pygments_lexer": "ipython2",
   "version": "2.7.6"
  }
 },
 "nbformat": 4,
 "nbformat_minor": 5
}
